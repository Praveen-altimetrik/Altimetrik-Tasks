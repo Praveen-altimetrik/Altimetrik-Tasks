{
 "cells": [
  {
   "cell_type": "code",
   "execution_count": 6,
   "id": "c7238a9a-8528-463d-892c-ecf2473e284f",
   "metadata": {},
   "outputs": [
    {
     "name": "stdout",
     "output_type": "stream",
     "text": [
      "0    10\n",
      "1    20\n",
      "2    30\n",
      "3    40\n",
      "dtype: int64\n",
      "A    100\n",
      "B    200\n",
      "C    300\n",
      "dtype: int64\n"
     ]
    }
   ],
   "source": [
    "import pandas as pd\n",
    "\n",
    "# from list\n",
    "s1  = pd.Series([10,20,30,40])\n",
    "print(s1)\n",
    "\n",
    "# With custom index \n",
    "s2 = pd.Series([100,200,300], index = ['A','B','C'])\n",
    "print(s2)"
   ]
  },
  {
   "cell_type": "code",
   "execution_count": 10,
   "id": "d686153e-0746-442d-971c-ea055dad2220",
   "metadata": {},
   "outputs": [
    {
     "name": "stdout",
     "output_type": "stream",
     "text": [
      "South sales: 1500\n"
     ]
    }
   ],
   "source": [
    "sales = pd.Series([1200,1500,1100], index = [\"East\", \"West\", \"South\"])\n",
    "print(\"South sales:\", sales[\"West\"])"
   ]
  },
  {
   "cell_type": "code",
   "execution_count": 13,
   "id": "0919fdeb-eb25-46be-9858-4899aeb4f39d",
   "metadata": {},
   "outputs": [
    {
     "name": "stdout",
     "output_type": "stream",
     "text": [
      "     Name  Age Department\n",
      "0     Jeo   21        cse\n",
      "1  Miller   32         it\n",
      "2   james   12         hr\n"
     ]
    }
   ],
   "source": [
    "#from dictionary\n",
    "\n",
    "data = {\n",
    "    \"Name\" : [\"Jeo\", \"Miller\", \"james\"],\n",
    "    \"Age\" : [21,32,12],\n",
    "    \"Department\" : [\"cse\",\"it\",\"hr\"]}\n",
    "\n",
    "df = pd.DataFrame(data)\n",
    "print(df)\n",
    "            \n",
    "    "
   ]
  },
  {
   "cell_type": "code",
   "execution_count": 14,
   "id": "4d7bd05b-92f8-4ec7-a142-7170a2af0d47",
   "metadata": {},
   "outputs": [
    {
     "name": "stdout",
     "output_type": "stream",
     "text": [
      "      Name  age  dept\n",
      "0  praveen   21   Cse\n",
      "1  koushik   22  mech\n"
     ]
    }
   ],
   "source": [
    "# list of dictionaries\n",
    "data = [\n",
    "    {\"Name\":\"praveen\",\"age\":21,\"dept\":\"Cse\"},\n",
    "    {\"Name\":\"koushik\",\"age\":22,\"dept\":\"mech\"},\n",
    "    ]\n",
    "\n",
    "df = pd.DataFrame(data)\n",
    "print(df)\n",
    "            \n",
    "    \n"
   ]
  },
  {
   "cell_type": "code",
   "execution_count": 17,
   "id": "56ce276b-f6a5-4901-9f6c-e084f48374e8",
   "metadata": {},
   "outputs": [
    {
     "data": {
      "text/plain": [
       "Name    praveen\n",
       "age          21\n",
       "dept        Cse\n",
       "Name: 0, dtype: object"
      ]
     },
     "execution_count": 17,
     "metadata": {},
     "output_type": "execute_result"
    }
   ],
   "source": [
    "df.iloc[0]\n"
   ]
  },
  {
   "cell_type": "code",
   "execution_count": 18,
   "id": "dfc5f79d-f1ad-449a-baa6-9fbdc48a2eb5",
   "metadata": {},
   "outputs": [
    {
     "data": {
      "text/plain": [
       "Name    praveen\n",
       "age          21\n",
       "dept        Cse\n",
       "Name: 0, dtype: object"
      ]
     },
     "execution_count": 18,
     "metadata": {},
     "output_type": "execute_result"
    }
   ],
   "source": [
    "df.loc[0]"
   ]
  },
  {
   "cell_type": "code",
   "execution_count": 19,
   "id": "87e78c92-dcbf-4c17-a844-d286693656dc",
   "metadata": {},
   "outputs": [
    {
     "data": {
      "text/plain": [
       "0    praveen\n",
       "1    koushik\n",
       "Name: Name, dtype: object"
      ]
     },
     "execution_count": 19,
     "metadata": {},
     "output_type": "execute_result"
    }
   ],
   "source": [
    "df[\"Name\"]"
   ]
  },
  {
   "cell_type": "code",
   "execution_count": 22,
   "id": "94e30de2-425e-4382-b935-0e2ccc99c5ac",
   "metadata": {},
   "outputs": [
    {
     "name": "stdout",
     "output_type": "stream",
     "text": [
      "   EMPID  Salary Department\n",
      "0    101   50000         IT\n"
     ]
    }
   ],
   "source": [
    "employees = {\n",
    "    \"EMPID\":[101,102,103],\n",
    "    \"Salary\":[50000, 60000, 70000],\n",
    "    \"Department\":[\"IT\",\"HR\",\"Finance\"]}\n",
    "df = pd.DataFrame(employees)\n",
    "#Filter the data\n",
    "print(df[df[\"Department\"] == \"IT\"])"
   ]
  },
  {
   "cell_type": "code",
   "execution_count": 29,
   "id": "4a5bb9a5-b35f-4084-b881-d9090ecfd47e",
   "metadata": {},
   "outputs": [
    {
     "name": "stdout",
     "output_type": "stream",
     "text": [
      "   EMPID  Salary Department    Bonus\n",
      "0    101   85000         IT   8000.0\n",
      "1    102   95000         HR   9000.0\n",
      "2    103  105000    Finance  10000.0\n"
     ]
    }
   ],
   "source": [
    "# Add a column\n",
    "df[\"Bonus\"] = df[\"Salary\"] * 0.10\n",
    "# Update column\n",
    "df[\"Salary\"] = df[\"Salary\"] + 5000\n",
    "#drop column\n",
    "#df.drop(\"Bonus\",axis = 1, inplace = True)\n",
    "print(df)"
   ]
  },
  {
   "cell_type": "code",
   "execution_count": 30,
   "id": "f1aabd6e-d5d6-4ad6-9a62-1aa81dcf0473",
   "metadata": {},
   "outputs": [
    {
     "data": {
      "text/html": [
       "<div>\n",
       "<style scoped>\n",
       "    .dataframe tbody tr th:only-of-type {\n",
       "        vertical-align: middle;\n",
       "    }\n",
       "\n",
       "    .dataframe tbody tr th {\n",
       "        vertical-align: top;\n",
       "    }\n",
       "\n",
       "    .dataframe thead th {\n",
       "        text-align: right;\n",
       "    }\n",
       "</style>\n",
       "<table border=\"1\" class=\"dataframe\">\n",
       "  <thead>\n",
       "    <tr style=\"text-align: right;\">\n",
       "      <th></th>\n",
       "      <th>EMPID</th>\n",
       "      <th>Salary</th>\n",
       "      <th>Bonus</th>\n",
       "    </tr>\n",
       "  </thead>\n",
       "  <tbody>\n",
       "    <tr>\n",
       "      <th>count</th>\n",
       "      <td>3.0</td>\n",
       "      <td>3.0</td>\n",
       "      <td>3.0</td>\n",
       "    </tr>\n",
       "    <tr>\n",
       "      <th>mean</th>\n",
       "      <td>102.0</td>\n",
       "      <td>95000.0</td>\n",
       "      <td>9000.0</td>\n",
       "    </tr>\n",
       "    <tr>\n",
       "      <th>std</th>\n",
       "      <td>1.0</td>\n",
       "      <td>10000.0</td>\n",
       "      <td>1000.0</td>\n",
       "    </tr>\n",
       "    <tr>\n",
       "      <th>min</th>\n",
       "      <td>101.0</td>\n",
       "      <td>85000.0</td>\n",
       "      <td>8000.0</td>\n",
       "    </tr>\n",
       "    <tr>\n",
       "      <th>25%</th>\n",
       "      <td>101.5</td>\n",
       "      <td>90000.0</td>\n",
       "      <td>8500.0</td>\n",
       "    </tr>\n",
       "    <tr>\n",
       "      <th>50%</th>\n",
       "      <td>102.0</td>\n",
       "      <td>95000.0</td>\n",
       "      <td>9000.0</td>\n",
       "    </tr>\n",
       "    <tr>\n",
       "      <th>75%</th>\n",
       "      <td>102.5</td>\n",
       "      <td>100000.0</td>\n",
       "      <td>9500.0</td>\n",
       "    </tr>\n",
       "    <tr>\n",
       "      <th>max</th>\n",
       "      <td>103.0</td>\n",
       "      <td>105000.0</td>\n",
       "      <td>10000.0</td>\n",
       "    </tr>\n",
       "  </tbody>\n",
       "</table>\n",
       "</div>"
      ],
      "text/plain": [
       "       EMPID    Salary    Bonus\n",
       "count    3.0       3.0      3.0\n",
       "mean   102.0   95000.0   9000.0\n",
       "std      1.0   10000.0   1000.0\n",
       "min    101.0   85000.0   8000.0\n",
       "25%    101.5   90000.0   8500.0\n",
       "50%    102.0   95000.0   9000.0\n",
       "75%    102.5  100000.0   9500.0\n",
       "max    103.0  105000.0  10000.0"
      ]
     },
     "execution_count": 30,
     "metadata": {},
     "output_type": "execute_result"
    }
   ],
   "source": [
    "df.describe() # focus on numerical columns"
   ]
  },
  {
   "cell_type": "code",
   "execution_count": 31,
   "id": "e85d762c-bdfb-4210-bc15-8a1d6c7b2ea5",
   "metadata": {},
   "outputs": [
    {
     "name": "stdout",
     "output_type": "stream",
     "text": [
      "<class 'pandas.core.frame.DataFrame'>\n",
      "RangeIndex: 3 entries, 0 to 2\n",
      "Data columns (total 4 columns):\n",
      " #   Column      Non-Null Count  Dtype  \n",
      "---  ------      --------------  -----  \n",
      " 0   EMPID       3 non-null      int64  \n",
      " 1   Salary      3 non-null      int64  \n",
      " 2   Department  3 non-null      object \n",
      " 3   Bonus       3 non-null      float64\n",
      "dtypes: float64(1), int64(2), object(1)\n",
      "memory usage: 228.0+ bytes\n"
     ]
    }
   ],
   "source": [
    "df.info() # to know number of columns"
   ]
  },
  {
   "cell_type": "code",
   "execution_count": 33,
   "id": "d2fd11e7-ec6b-4da6-90d9-5d9cd0b73246",
   "metadata": {},
   "outputs": [
    {
     "name": "stdout",
     "output_type": "stream",
     "text": [
      "   EmpID    Name  Age Department  Salary\n",
      "0    101    John   28         IT   50000\n",
      "1    102    Emma   34         HR   60000\n",
      "2    103    Ryan   29    Finance   55000\n",
      "3    104  Sophia   25  Marketing   52000\n"
     ]
    },
    {
     "data": {
      "text/html": [
       "<div>\n",
       "<style scoped>\n",
       "    .dataframe tbody tr th:only-of-type {\n",
       "        vertical-align: middle;\n",
       "    }\n",
       "\n",
       "    .dataframe tbody tr th {\n",
       "        vertical-align: top;\n",
       "    }\n",
       "\n",
       "    .dataframe thead th {\n",
       "        text-align: right;\n",
       "    }\n",
       "</style>\n",
       "<table border=\"1\" class=\"dataframe\">\n",
       "  <thead>\n",
       "    <tr style=\"text-align: right;\">\n",
       "      <th></th>\n",
       "      <th>EmpID</th>\n",
       "      <th>Name</th>\n",
       "      <th>Age</th>\n",
       "      <th>Department</th>\n",
       "      <th>Salary</th>\n",
       "    </tr>\n",
       "  </thead>\n",
       "  <tbody>\n",
       "    <tr>\n",
       "      <th>0</th>\n",
       "      <td>101</td>\n",
       "      <td>John</td>\n",
       "      <td>28</td>\n",
       "      <td>IT</td>\n",
       "      <td>50000</td>\n",
       "    </tr>\n",
       "    <tr>\n",
       "      <th>1</th>\n",
       "      <td>102</td>\n",
       "      <td>Emma</td>\n",
       "      <td>34</td>\n",
       "      <td>HR</td>\n",
       "      <td>60000</td>\n",
       "    </tr>\n",
       "    <tr>\n",
       "      <th>2</th>\n",
       "      <td>103</td>\n",
       "      <td>Ryan</td>\n",
       "      <td>29</td>\n",
       "      <td>Finance</td>\n",
       "      <td>55000</td>\n",
       "    </tr>\n",
       "    <tr>\n",
       "      <th>3</th>\n",
       "      <td>104</td>\n",
       "      <td>Sophia</td>\n",
       "      <td>25</td>\n",
       "      <td>Marketing</td>\n",
       "      <td>52000</td>\n",
       "    </tr>\n",
       "  </tbody>\n",
       "</table>\n",
       "</div>"
      ],
      "text/plain": [
       "   EmpID    Name  Age Department  Salary\n",
       "0    101    John   28         IT   50000\n",
       "1    102    Emma   34         HR   60000\n",
       "2    103    Ryan   29    Finance   55000\n",
       "3    104  Sophia   25  Marketing   52000"
      ]
     },
     "execution_count": 33,
     "metadata": {},
     "output_type": "execute_result"
    }
   ],
   "source": [
    "# working with csv file\n",
    "# Read from csv\n",
    "\n",
    "import pandas as pd\n",
    "df = pd.read_csv(\"employee.csv\")\n",
    "print(df)\n",
    "\n",
    "# Write to CSV:\n",
    "df.to_csv(\"employee.csv\", index = False)\n",
    "df"
   ]
  },
  {
   "cell_type": "code",
   "execution_count": 34,
   "id": "d41a95af-faef-4bcf-9e26-a3eeee738205",
   "metadata": {},
   "outputs": [
    {
     "data": {
      "text/html": [
       "<div>\n",
       "<style scoped>\n",
       "    .dataframe tbody tr th:only-of-type {\n",
       "        vertical-align: middle;\n",
       "    }\n",
       "\n",
       "    .dataframe tbody tr th {\n",
       "        vertical-align: top;\n",
       "    }\n",
       "\n",
       "    .dataframe thead th {\n",
       "        text-align: right;\n",
       "    }\n",
       "</style>\n",
       "<table border=\"1\" class=\"dataframe\">\n",
       "  <thead>\n",
       "    <tr style=\"text-align: right;\">\n",
       "      <th></th>\n",
       "      <th>EmpID</th>\n",
       "      <th>Name</th>\n",
       "      <th>Age</th>\n",
       "      <th>Department</th>\n",
       "      <th>Salary</th>\n",
       "    </tr>\n",
       "  </thead>\n",
       "  <tbody>\n",
       "    <tr>\n",
       "      <th>2</th>\n",
       "      <td>103</td>\n",
       "      <td>Ryan</td>\n",
       "      <td>29</td>\n",
       "      <td>Finance</td>\n",
       "      <td>55000</td>\n",
       "    </tr>\n",
       "  </tbody>\n",
       "</table>\n",
       "</div>"
      ],
      "text/plain": [
       "   EmpID  Name  Age Department  Salary\n",
       "2    103  Ryan   29    Finance   55000"
      ]
     },
     "execution_count": 34,
     "metadata": {},
     "output_type": "execute_result"
    }
   ],
   "source": [
    "df[(df[\"Salary\"]>50000) & (df[\"Department\"] == \"Finance\")]"
   ]
  },
  {
   "cell_type": "code",
   "execution_count": 40,
   "id": "61783023-03ed-4353-ba1f-93b5b810bcd6",
   "metadata": {},
   "outputs": [
    {
     "data": {
      "text/html": [
       "<div>\n",
       "<style scoped>\n",
       "    .dataframe tbody tr th:only-of-type {\n",
       "        vertical-align: middle;\n",
       "    }\n",
       "\n",
       "    .dataframe tbody tr th {\n",
       "        vertical-align: top;\n",
       "    }\n",
       "\n",
       "    .dataframe thead th {\n",
       "        text-align: right;\n",
       "    }\n",
       "</style>\n",
       "<table border=\"1\" class=\"dataframe\">\n",
       "  <thead>\n",
       "    <tr style=\"text-align: right;\">\n",
       "      <th></th>\n",
       "      <th>Date</th>\n",
       "      <th>Region</th>\n",
       "      <th>Product</th>\n",
       "      <th>Units_Sold</th>\n",
       "      <th>Unit_Price</th>\n",
       "    </tr>\n",
       "  </thead>\n",
       "  <tbody>\n",
       "    <tr>\n",
       "      <th>0</th>\n",
       "      <td>2024-05-01</td>\n",
       "      <td>East</td>\n",
       "      <td>Laptop</td>\n",
       "      <td>5</td>\n",
       "      <td>700</td>\n",
       "    </tr>\n",
       "    <tr>\n",
       "      <th>1</th>\n",
       "      <td>2024-05-01</td>\n",
       "      <td>West</td>\n",
       "      <td>Phone</td>\n",
       "      <td>10</td>\n",
       "      <td>300</td>\n",
       "    </tr>\n",
       "    <tr>\n",
       "      <th>2</th>\n",
       "      <td>2024-05-02</td>\n",
       "      <td>East</td>\n",
       "      <td>Laptop</td>\n",
       "      <td>6</td>\n",
       "      <td>700</td>\n",
       "    </tr>\n",
       "    <tr>\n",
       "      <th>3</th>\n",
       "      <td>2024-05-02</td>\n",
       "      <td>West</td>\n",
       "      <td>Phone</td>\n",
       "      <td>8</td>\n",
       "      <td>300</td>\n",
       "    </tr>\n",
       "  </tbody>\n",
       "</table>\n",
       "</div>"
      ],
      "text/plain": [
       "         Date Region Product  Units_Sold  Unit_Price\n",
       "0  2024-05-01   East  Laptop           5         700\n",
       "1  2024-05-01   West   Phone          10         300\n",
       "2  2024-05-02   East  Laptop           6         700\n",
       "3  2024-05-02   West   Phone           8         300"
      ]
     },
     "execution_count": 40,
     "metadata": {},
     "output_type": "execute_result"
    }
   ],
   "source": [
    "df = pd.read_csv(\"sales.csv\")\n",
    "df.to_csv(\"sales.csv\", index = False)\n",
    "df"
   ]
  },
  {
   "cell_type": "code",
   "execution_count": 46,
   "id": "57b2e60a-d7cb-4eed-b5e3-c805a928099a",
   "metadata": {},
   "outputs": [
    {
     "name": "stdout",
     "output_type": "stream",
     "text": [
      "         Date Region Product  Units_Sold  Unit_Price\n",
      "0  2024-05-01   East  Laptop           5         700\n",
      "1  2024-05-01   West   Phone          10         300\n",
      "2  2024-05-02   East  Laptop           6         700\n",
      "3  2024-05-02   West   Phone           8         300\n",
      "         Date Region Product  Units_Sold  Unit_Price\n",
      "0  2024-05-01   East  Laptop           5         700\n",
      "1  2024-05-01   West   Phone          10         300\n",
      "2  2024-05-02   East  Laptop           6         700\n",
      "         Date Region Product  Units_Sold  Unit_Price\n",
      "2  2024-05-02   East  Laptop           6         700\n",
      "3  2024-05-02   West   Phone           8         300\n"
     ]
    }
   ],
   "source": [
    "# print top 5 records\n",
    "print(df.head())\n",
    "# print top 3 records\n",
    "print(df.head(3))\n",
    "# last 3 records\n",
    "print(df.tail(2))"
   ]
  },
  {
   "cell_type": "code",
   "execution_count": 44,
   "id": "e938f415-344e-40c3-a6d9-5d972c3263fd",
   "metadata": {},
   "outputs": [
    {
     "name": "stdout",
     "output_type": "stream",
     "text": [
      "Region\n",
      "East    11\n",
      "West    18\n",
      "Name: Units_Sold, dtype: int64\n"
     ]
    }
   ],
   "source": [
    "# total sales by region\n",
    "print(df.groupby(\"Region\")[\"Units_Sold\"].sum())"
   ]
  },
  {
   "cell_type": "code",
   "execution_count": 59,
   "id": "19368575-ab5d-4ab2-a000-d43dccca65cf",
   "metadata": {},
   "outputs": [
    {
     "data": {
      "text/html": [
       "<div>\n",
       "<style scoped>\n",
       "    .dataframe tbody tr th:only-of-type {\n",
       "        vertical-align: middle;\n",
       "    }\n",
       "\n",
       "    .dataframe tbody tr th {\n",
       "        vertical-align: top;\n",
       "    }\n",
       "\n",
       "    .dataframe thead th {\n",
       "        text-align: right;\n",
       "    }\n",
       "</style>\n",
       "<table border=\"1\" class=\"dataframe\">\n",
       "  <thead>\n",
       "    <tr style=\"text-align: right;\">\n",
       "      <th></th>\n",
       "      <th>NAME</th>\n",
       "      <th>Age</th>\n",
       "      <th>Department</th>\n",
       "      <th>Salary</th>\n",
       "    </tr>\n",
       "  </thead>\n",
       "  <tbody>\n",
       "    <tr>\n",
       "      <th>0</th>\n",
       "      <td>Alice</td>\n",
       "      <td>25.0</td>\n",
       "      <td>HR</td>\n",
       "      <td>10000.0</td>\n",
       "    </tr>\n",
       "    <tr>\n",
       "      <th>1</th>\n",
       "      <td>NaN</td>\n",
       "      <td>NaN</td>\n",
       "      <td>Finance</td>\n",
       "      <td>20000.0</td>\n",
       "    </tr>\n",
       "    <tr>\n",
       "      <th>2</th>\n",
       "      <td>Charlie</td>\n",
       "      <td>30.0</td>\n",
       "      <td>NaN</td>\n",
       "      <td>30000.0</td>\n",
       "    </tr>\n",
       "    <tr>\n",
       "      <th>3</th>\n",
       "      <td>Koushik</td>\n",
       "      <td>28.0</td>\n",
       "      <td>IT</td>\n",
       "      <td>NaN</td>\n",
       "    </tr>\n",
       "  </tbody>\n",
       "</table>\n",
       "</div>"
      ],
      "text/plain": [
       "      NAME   Age Department   Salary\n",
       "0    Alice  25.0         HR  10000.0\n",
       "1      NaN   NaN    Finance  20000.0\n",
       "2  Charlie  30.0        NaN  30000.0\n",
       "3  Koushik  28.0         IT      NaN"
      ]
     },
     "execution_count": 59,
     "metadata": {},
     "output_type": "execute_result"
    }
   ],
   "source": [
    "import pandas as pd\n",
    "import numpy as np\n",
    "\n",
    "data = { \"NAME\":[\"Alice\",np.nan,\"Charlie\",\"Koushik\"],\n",
    "         \"Age\":[25,np.nan,30, 28],\n",
    "         \"Department\": [\"HR\",\"Finance\",np.nan,\"IT\"],\n",
    "         \"Salary\":[10000,20000,30000,np.nan]}\n",
    "\n",
    "df = pd.DataFrame(data)\n",
    "df"
   ]
  },
  {
   "cell_type": "code",
   "execution_count": 60,
   "id": "9033b2c1-edd9-4011-a47f-1e39f1e509f4",
   "metadata": {},
   "outputs": [
    {
     "data": {
      "text/html": [
       "<div>\n",
       "<style scoped>\n",
       "    .dataframe tbody tr th:only-of-type {\n",
       "        vertical-align: middle;\n",
       "    }\n",
       "\n",
       "    .dataframe tbody tr th {\n",
       "        vertical-align: top;\n",
       "    }\n",
       "\n",
       "    .dataframe thead th {\n",
       "        text-align: right;\n",
       "    }\n",
       "</style>\n",
       "<table border=\"1\" class=\"dataframe\">\n",
       "  <thead>\n",
       "    <tr style=\"text-align: right;\">\n",
       "      <th></th>\n",
       "      <th>NAME</th>\n",
       "      <th>Age</th>\n",
       "      <th>Department</th>\n",
       "      <th>Salary</th>\n",
       "    </tr>\n",
       "  </thead>\n",
       "  <tbody>\n",
       "    <tr>\n",
       "      <th>0</th>\n",
       "      <td>False</td>\n",
       "      <td>False</td>\n",
       "      <td>False</td>\n",
       "      <td>False</td>\n",
       "    </tr>\n",
       "    <tr>\n",
       "      <th>1</th>\n",
       "      <td>True</td>\n",
       "      <td>True</td>\n",
       "      <td>False</td>\n",
       "      <td>False</td>\n",
       "    </tr>\n",
       "    <tr>\n",
       "      <th>2</th>\n",
       "      <td>False</td>\n",
       "      <td>False</td>\n",
       "      <td>True</td>\n",
       "      <td>False</td>\n",
       "    </tr>\n",
       "    <tr>\n",
       "      <th>3</th>\n",
       "      <td>False</td>\n",
       "      <td>False</td>\n",
       "      <td>False</td>\n",
       "      <td>True</td>\n",
       "    </tr>\n",
       "  </tbody>\n",
       "</table>\n",
       "</div>"
      ],
      "text/plain": [
       "    NAME    Age  Department  Salary\n",
       "0  False  False       False   False\n",
       "1   True   True       False   False\n",
       "2  False  False        True   False\n",
       "3  False  False       False    True"
      ]
     },
     "execution_count": 60,
     "metadata": {},
     "output_type": "execute_result"
    }
   ],
   "source": [
    "df.isnull() # True for missing cells\n",
    "#df.isnull().sum() # Count missing values per column"
   ]
  },
  {
   "cell_type": "code",
   "execution_count": 61,
   "id": "ea925aff-c75f-4742-b160-6930b051606e",
   "metadata": {},
   "outputs": [
    {
     "data": {
      "text/plain": [
       "NAME          1\n",
       "Age           1\n",
       "Department    1\n",
       "Salary        1\n",
       "dtype: int64"
      ]
     },
     "execution_count": 61,
     "metadata": {},
     "output_type": "execute_result"
    }
   ],
   "source": [
    "df.isnull().sum() # Count missing values per column"
   ]
  },
  {
   "cell_type": "code",
   "execution_count": 66,
   "id": "bef4dff3-4c8e-4119-878e-d025da1381b5",
   "metadata": {},
   "outputs": [
    {
     "data": {
      "text/html": [
       "<div>\n",
       "<style scoped>\n",
       "    .dataframe tbody tr th:only-of-type {\n",
       "        vertical-align: middle;\n",
       "    }\n",
       "\n",
       "    .dataframe tbody tr th {\n",
       "        vertical-align: top;\n",
       "    }\n",
       "\n",
       "    .dataframe thead th {\n",
       "        text-align: right;\n",
       "    }\n",
       "</style>\n",
       "<table border=\"1\" class=\"dataframe\">\n",
       "  <thead>\n",
       "    <tr style=\"text-align: right;\">\n",
       "      <th></th>\n",
       "      <th>NAME</th>\n",
       "      <th>Age</th>\n",
       "      <th>Department</th>\n",
       "      <th>Salary</th>\n",
       "    </tr>\n",
       "  </thead>\n",
       "  <tbody>\n",
       "    <tr>\n",
       "      <th>0</th>\n",
       "      <td>Alice</td>\n",
       "      <td>25.0</td>\n",
       "      <td>HR</td>\n",
       "      <td>10000.0</td>\n",
       "    </tr>\n",
       "    <tr>\n",
       "      <th>1</th>\n",
       "      <td>Name miss</td>\n",
       "      <td>null</td>\n",
       "      <td>Finance</td>\n",
       "      <td>20000.0</td>\n",
       "    </tr>\n",
       "    <tr>\n",
       "      <th>2</th>\n",
       "      <td>Charlie</td>\n",
       "      <td>30.0</td>\n",
       "      <td>Dept miss</td>\n",
       "      <td>30000.0</td>\n",
       "    </tr>\n",
       "    <tr>\n",
       "      <th>3</th>\n",
       "      <td>Koushik</td>\n",
       "      <td>28.0</td>\n",
       "      <td>IT</td>\n",
       "      <td>null</td>\n",
       "    </tr>\n",
       "  </tbody>\n",
       "</table>\n",
       "</div>"
      ],
      "text/plain": [
       "        NAME   Age Department   Salary\n",
       "0      Alice  25.0         HR  10000.0\n",
       "1  Name miss  null    Finance  20000.0\n",
       "2    Charlie  30.0  Dept miss  30000.0\n",
       "3    Koushik  28.0         IT     null"
      ]
     },
     "execution_count": 66,
     "metadata": {},
     "output_type": "execute_result"
    }
   ],
   "source": [
    "df.fillna({'NAME':'Name miss','Age':'null','Department':'Dept miss','Salary':'null'})\n"
   ]
  },
  {
   "cell_type": "code",
   "execution_count": 67,
   "id": "12514fa1-860c-4ab8-8b3b-1e007a5117d1",
   "metadata": {},
   "outputs": [
    {
     "data": {
      "text/html": [
       "<div>\n",
       "<style scoped>\n",
       "    .dataframe tbody tr th:only-of-type {\n",
       "        vertical-align: middle;\n",
       "    }\n",
       "\n",
       "    .dataframe tbody tr th {\n",
       "        vertical-align: top;\n",
       "    }\n",
       "\n",
       "    .dataframe thead th {\n",
       "        text-align: right;\n",
       "    }\n",
       "</style>\n",
       "<table border=\"1\" class=\"dataframe\">\n",
       "  <thead>\n",
       "    <tr style=\"text-align: right;\">\n",
       "      <th></th>\n",
       "      <th>NAME</th>\n",
       "      <th>Age</th>\n",
       "      <th>Department</th>\n",
       "      <th>Salary</th>\n",
       "    </tr>\n",
       "  </thead>\n",
       "  <tbody>\n",
       "    <tr>\n",
       "      <th>0</th>\n",
       "      <td>Alice</td>\n",
       "      <td>25.0</td>\n",
       "      <td>HR</td>\n",
       "      <td>10000.0</td>\n",
       "    </tr>\n",
       "  </tbody>\n",
       "</table>\n",
       "</div>"
      ],
      "text/plain": [
       "    NAME   Age Department   Salary\n",
       "0  Alice  25.0         HR  10000.0"
      ]
     },
     "execution_count": 67,
     "metadata": {},
     "output_type": "execute_result"
    }
   ],
   "source": [
    "#drop rows with miss values\n",
    "df.dropna()"
   ]
  },
  {
   "cell_type": "code",
   "execution_count": 68,
   "id": "e9b50b3d-fe90-4cc0-98a8-f60a9024d4ae",
   "metadata": {},
   "outputs": [
    {
     "data": {
      "text/html": [
       "<div>\n",
       "<style scoped>\n",
       "    .dataframe tbody tr th:only-of-type {\n",
       "        vertical-align: middle;\n",
       "    }\n",
       "\n",
       "    .dataframe tbody tr th {\n",
       "        vertical-align: top;\n",
       "    }\n",
       "\n",
       "    .dataframe thead th {\n",
       "        text-align: right;\n",
       "    }\n",
       "</style>\n",
       "<table border=\"1\" class=\"dataframe\">\n",
       "  <thead>\n",
       "    <tr style=\"text-align: right;\">\n",
       "      <th></th>\n",
       "    </tr>\n",
       "  </thead>\n",
       "  <tbody>\n",
       "    <tr>\n",
       "      <th>0</th>\n",
       "    </tr>\n",
       "    <tr>\n",
       "      <th>1</th>\n",
       "    </tr>\n",
       "    <tr>\n",
       "      <th>2</th>\n",
       "    </tr>\n",
       "    <tr>\n",
       "      <th>3</th>\n",
       "    </tr>\n",
       "  </tbody>\n",
       "</table>\n",
       "</div>"
      ],
      "text/plain": [
       "Empty DataFrame\n",
       "Columns: []\n",
       "Index: [0, 1, 2, 3]"
      ]
     },
     "execution_count": 68,
     "metadata": {},
     "output_type": "execute_result"
    }
   ],
   "source": [
    "df.dropna(axis = 1)"
   ]
  },
  {
   "cell_type": "code",
   "execution_count": 69,
   "id": "4a1df137-4166-4caf-a6f3-31cfb9d4a6b6",
   "metadata": {},
   "outputs": [
    {
     "data": {
      "text/html": [
       "<div>\n",
       "<style scoped>\n",
       "    .dataframe tbody tr th:only-of-type {\n",
       "        vertical-align: middle;\n",
       "    }\n",
       "\n",
       "    .dataframe tbody tr th {\n",
       "        vertical-align: top;\n",
       "    }\n",
       "\n",
       "    .dataframe thead th {\n",
       "        text-align: right;\n",
       "    }\n",
       "</style>\n",
       "<table border=\"1\" class=\"dataframe\">\n",
       "  <thead>\n",
       "    <tr style=\"text-align: right;\">\n",
       "      <th></th>\n",
       "      <th>Date</th>\n",
       "      <th>Region</th>\n",
       "      <th>Product</th>\n",
       "      <th>Units_Sold</th>\n",
       "      <th>Unit_Price</th>\n",
       "    </tr>\n",
       "  </thead>\n",
       "  <tbody>\n",
       "    <tr>\n",
       "      <th>0</th>\n",
       "      <td>2024-05-01</td>\n",
       "      <td>East</td>\n",
       "      <td>Laptop</td>\n",
       "      <td>5</td>\n",
       "      <td>700</td>\n",
       "    </tr>\n",
       "    <tr>\n",
       "      <th>1</th>\n",
       "      <td>2024-05-01</td>\n",
       "      <td>West</td>\n",
       "      <td>Phone</td>\n",
       "      <td>10</td>\n",
       "      <td>300</td>\n",
       "    </tr>\n",
       "    <tr>\n",
       "      <th>2</th>\n",
       "      <td>2024-05-02</td>\n",
       "      <td>East</td>\n",
       "      <td>Laptop</td>\n",
       "      <td>6</td>\n",
       "      <td>700</td>\n",
       "    </tr>\n",
       "    <tr>\n",
       "      <th>3</th>\n",
       "      <td>2024-05-02</td>\n",
       "      <td>West</td>\n",
       "      <td>Phone</td>\n",
       "      <td>8</td>\n",
       "      <td>300</td>\n",
       "    </tr>\n",
       "  </tbody>\n",
       "</table>\n",
       "</div>"
      ],
      "text/plain": [
       "         Date Region Product  Units_Sold  Unit_Price\n",
       "0  2024-05-01   East  Laptop           5         700\n",
       "1  2024-05-01   West   Phone          10         300\n",
       "2  2024-05-02   East  Laptop           6         700\n",
       "3  2024-05-02   West   Phone           8         300"
      ]
     },
     "execution_count": 69,
     "metadata": {},
     "output_type": "execute_result"
    }
   ],
   "source": [
    "df = pd.read_csv(\"sales.csv\")\n",
    "df.to_csv(\"sales.csv\", index = False)\n",
    "df"
   ]
  },
  {
   "cell_type": "code",
   "execution_count": 71,
   "id": "a7960b01-02bd-4d97-b655-4b9bd41d76d4",
   "metadata": {},
   "outputs": [
    {
     "name": "stdout",
     "output_type": "stream",
     "text": [
      "Date          0\n",
      "Region        1\n",
      "Units_Sold    1\n",
      "Unit_Price    1\n",
      "dtype: int64\n",
      "         Date Region  Units_Sold  Unit_Price\n",
      "0  2024-01-01   East        10.0  300.000000\n",
      "1  2024-01-02   West         NaN  250.000000\n",
      "3  2024-01-04  South        12.0  316.666667\n"
     ]
    }
   ],
   "source": [
    "sales = { \n",
    "    \"Date\":[\"2024-01-01\",\"2024-01-02\",\"2024-01-03\",\"2024-01-04\"],\n",
    "    \"Region\":[\"East\",\"West\",np.nan,\"South\"],\n",
    "    \"Units_Sold\": [10,np.nan,15,12],\n",
    "    \"Unit_Price\":[300,250,400,np.nan]}\n",
    "\n",
    "df = pd.DataFrame(sales)\n",
    "\n",
    "# 1. Detect missing\n",
    "print(df.isnull().sum())\n",
    "\n",
    "# 2. Fill Unit_Price with mean\n",
    "df.fillna({\"Unit_Price\": df[\"Unit_Price\"].mean()}, inplace = True)\n",
    "\n",
    "# 3. Drop rows where Region is missing\n",
    "df.dropna(subset=[\"Region\"],inplace = True)\n",
    "print(df)"
   ]
  },
  {
   "cell_type": "code",
   "execution_count": 72,
   "id": "25b7217f-78d6-4578-b296-9b7310d5aaa7",
   "metadata": {},
   "outputs": [
    {
     "data": {
      "text/html": [
       "<div>\n",
       "<style scoped>\n",
       "    .dataframe tbody tr th:only-of-type {\n",
       "        vertical-align: middle;\n",
       "    }\n",
       "\n",
       "    .dataframe tbody tr th {\n",
       "        vertical-align: top;\n",
       "    }\n",
       "\n",
       "    .dataframe thead th {\n",
       "        text-align: right;\n",
       "    }\n",
       "</style>\n",
       "<table border=\"1\" class=\"dataframe\">\n",
       "  <thead>\n",
       "    <tr style=\"text-align: right;\">\n",
       "      <th></th>\n",
       "      <th>Date</th>\n",
       "      <th>Region</th>\n",
       "      <th>Units_Sold</th>\n",
       "      <th>Unit_Price</th>\n",
       "    </tr>\n",
       "  </thead>\n",
       "  <tbody>\n",
       "    <tr>\n",
       "      <th>3</th>\n",
       "      <td>2024-01-04</td>\n",
       "      <td>South</td>\n",
       "      <td>12.0</td>\n",
       "      <td>316.666667</td>\n",
       "    </tr>\n",
       "  </tbody>\n",
       "</table>\n",
       "</div>"
      ],
      "text/plain": [
       "         Date Region  Units_Sold  Unit_Price\n",
       "3  2024-01-04  South        12.0  316.666667"
      ]
     },
     "execution_count": 72,
     "metadata": {},
     "output_type": "execute_result"
    }
   ],
   "source": [
    "df[df[\"Units_Sold\"]>10]"
   ]
  },
  {
   "cell_type": "code",
   "execution_count": null,
   "id": "a83b1e7a-87eb-4b3a-8f4c-b8d8776be117",
   "metadata": {},
   "outputs": [],
   "source": [
    "# Multiple Aggregations\n",
    "\n",
    "import pandas as pd\n",
    "df = pd"
   ]
  }
 ],
 "metadata": {
  "kernelspec": {
   "display_name": "Python 3 (ipykernel)",
   "language": "python",
   "name": "python3"
  },
  "language_info": {
   "codemirror_mode": {
    "name": "ipython",
    "version": 3
   },
   "file_extension": ".py",
   "mimetype": "text/x-python",
   "name": "python",
   "nbconvert_exporter": "python",
   "pygments_lexer": "ipython3",
   "version": "3.13.3"
  }
 },
 "nbformat": 4,
 "nbformat_minor": 5
}
