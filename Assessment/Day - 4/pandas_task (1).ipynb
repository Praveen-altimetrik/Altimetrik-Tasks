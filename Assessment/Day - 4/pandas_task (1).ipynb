{
 "cells": [
  {
   "cell_type": "code",
   "execution_count": 7,
   "id": "582ad732-392a-410c-9f29-899154da851b",
   "metadata": {},
   "outputs": [
    {
     "name": "stdout",
     "output_type": "stream",
     "text": [
      "<class 'pandas.core.frame.DataFrame'>\n",
      "RangeIndex: 5 entries, 0 to 4\n",
      "Data columns (total 4 columns):\n",
      " #   Column      Non-Null Count  Dtype \n",
      "---  ------      --------------  ----- \n",
      " 0   EMP_ID      5 non-null      int64 \n",
      " 1   Name        5 non-null      object\n",
      " 2   Department  5 non-null      object\n",
      " 3   Salary      5 non-null      int64 \n",
      "dtypes: int64(2), object(2)\n",
      "memory usage: 292.0+ bytes\n",
      "None\n"
     ]
    },
    {
     "data": {
      "text/html": [
       "<div>\n",
       "<style scoped>\n",
       "    .dataframe tbody tr th:only-of-type {\n",
       "        vertical-align: middle;\n",
       "    }\n",
       "\n",
       "    .dataframe tbody tr th {\n",
       "        vertical-align: top;\n",
       "    }\n",
       "\n",
       "    .dataframe thead th {\n",
       "        text-align: right;\n",
       "    }\n",
       "</style>\n",
       "<table border=\"1\" class=\"dataframe\">\n",
       "  <thead>\n",
       "    <tr style=\"text-align: right;\">\n",
       "      <th></th>\n",
       "      <th>EMP_ID</th>\n",
       "      <th>Name</th>\n",
       "      <th>Department</th>\n",
       "      <th>Salary</th>\n",
       "      <th>Bonus</th>\n",
       "    </tr>\n",
       "  </thead>\n",
       "  <tbody>\n",
       "    <tr>\n",
       "      <th>0</th>\n",
       "      <td>101</td>\n",
       "      <td>Koushik</td>\n",
       "      <td>Mech</td>\n",
       "      <td>10000</td>\n",
       "      <td>1000.0</td>\n",
       "    </tr>\n",
       "    <tr>\n",
       "      <th>1</th>\n",
       "      <td>102</td>\n",
       "      <td>Fadil</td>\n",
       "      <td>Cse</td>\n",
       "      <td>20000</td>\n",
       "      <td>2000.0</td>\n",
       "    </tr>\n",
       "    <tr>\n",
       "      <th>2</th>\n",
       "      <td>103</td>\n",
       "      <td>Praveen</td>\n",
       "      <td>Cse</td>\n",
       "      <td>30000</td>\n",
       "      <td>3000.0</td>\n",
       "    </tr>\n",
       "    <tr>\n",
       "      <th>3</th>\n",
       "      <td>104</td>\n",
       "      <td>Arun</td>\n",
       "      <td>EEE</td>\n",
       "      <td>40000</td>\n",
       "      <td>4000.0</td>\n",
       "    </tr>\n",
       "    <tr>\n",
       "      <th>4</th>\n",
       "      <td>105</td>\n",
       "      <td>Tarun</td>\n",
       "      <td>Cse</td>\n",
       "      <td>50000</td>\n",
       "      <td>5000.0</td>\n",
       "    </tr>\n",
       "  </tbody>\n",
       "</table>\n",
       "</div>"
      ],
      "text/plain": [
       "   EMP_ID     Name Department  Salary   Bonus\n",
       "0     101  Koushik       Mech   10000  1000.0\n",
       "1     102    Fadil        Cse   20000  2000.0\n",
       "2     103  Praveen        Cse   30000  3000.0\n",
       "3     104     Arun        EEE   40000  4000.0\n",
       "4     105    Tarun        Cse   50000  5000.0"
      ]
     },
     "execution_count": 7,
     "metadata": {},
     "output_type": "execute_result"
    }
   ],
   "source": [
    "import pandas as pd\n",
    "\n",
    "data = {\n",
    "    \"EMP_ID\":[101,102,103,104,105],\n",
    "    \"Name\":[\"Koushik\",\"Fadil\",\"Praveen\",\"Arun\",\"Tarun\"],\n",
    "    \"Department\":[\"Mech\",\"Cse\",\"Cse\",\"EEE\",\"Cse\"],\n",
    "    \"Salary\":[10000,20000,30000,40000,50000]}\n",
    "\n",
    "df = pd.DataFrame(data)\n",
    "print(df.info())\n",
    "df[\"Bonus\"] = df[\"Salary\"] * 0.10\n",
    "df"
   ]
  },
  {
   "cell_type": "code",
   "execution_count": 4,
   "id": "6525437a-3e58-4258-b382-68bc761646a3",
   "metadata": {},
   "outputs": [
    {
     "name": "stdout",
     "output_type": "stream",
     "text": [
      "Student marks:\n",
      " Alice      65\n",
      "Bob        70\n",
      "Charlie    85\n",
      "David      90\n",
      "Eve        55\n",
      "dtype: int64\n",
      "\n",
      "Average marks:\n",
      " 73.0\n",
      "\n",
      "Students more than 75:\n",
      " Charlie    85\n",
      "David      90\n",
      "dtype: int64\n"
     ]
    }
   ],
   "source": [
    "import pandas as pd\n",
    "\n",
    "marks = [65,70,85,90,55]\n",
    "students = ['Alice','Bob','Charlie','David','Eve']\n",
    "\n",
    "marks_series = pd.Series(marks, index = students)\n",
    "average_marks = marks_series.mean()\n",
    "\n",
    "filtering = marks_series[marks_series > 75]\n",
    "\n",
    "print(\"Student marks:\\n\", marks_series)\n",
    "print(\"\\nAverage marks:\\n\", average_marks)\n",
    "print(\"\\nStudents more than 75:\\n\", filtering)"
   ]
  },
  {
   "cell_type": "code",
   "execution_count": null,
   "id": "45c2490d-09e5-4027-bdc4-f059e7d6d030",
   "metadata": {},
   "outputs": [],
   "source": []
  }
 ],
 "metadata": {
  "kernelspec": {
   "display_name": "Python 3 (ipykernel)",
   "language": "python",
   "name": "python3"
  },
  "language_info": {
   "codemirror_mode": {
    "name": "ipython",
    "version": 3
   },
   "file_extension": ".py",
   "mimetype": "text/x-python",
   "name": "python",
   "nbconvert_exporter": "python",
   "pygments_lexer": "ipython3",
   "version": "3.13.3"
  }
 },
 "nbformat": 4,
 "nbformat_minor": 5
}
