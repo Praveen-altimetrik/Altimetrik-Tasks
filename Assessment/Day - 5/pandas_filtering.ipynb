{
 "cells": [
  {
   "cell_type": "code",
   "execution_count": 4,
   "id": "19f5e817-4e62-440c-a38b-8173053590a5",
   "metadata": {},
   "outputs": [
    {
     "name": "stdout",
     "output_type": "stream",
     "text": [
      "Filtered  DataFrame: \n",
      "     order_id  amount category  discount_amount\n",
      "1         2     200        B            180.0\n",
      "2         3     150        A            135.0\n",
      "Total Discounted Revenue: 315.0\n"
     ]
    }
   ],
   "source": [
    "import pandas as pd\n",
    "\n",
    "# Sample DataFrame\n",
    "data = {\n",
    "    'order_id': [1,2,3,4],\n",
    "    'amount' : [50,200,150,75],\n",
    "    'category' :  ['A','B','A','C']\n",
    "}\n",
    "\n",
    "df = pd.DataFrame(data)\n",
    "\n",
    "# 1. Filter: Select orders where amount > 100\n",
    "filtered_df = df[df['amount'] > 100]\n",
    "\n",
    "# 2. Map/Apply : Apply 10% discount to 'amount' cloumn\n",
    "filtered_df = df[df['amount'] > 100].copy() # Make an explicit copy # make a duplicate copy\n",
    "\n",
    "filtered_df.loc[:,'discount_amount'] = filtered_df['amount'].apply(lambda x: x*0.9)\n",
    "\n",
    "# 3. Reduce: Calculate total discounted revenue\n",
    "total_discounted_revenue = filtered_df['discount_amount'].sum()\n",
    "\n",
    "print(\"Filtered  DataFrame: \\n \",filtered_df)\n",
    "print(\"Total Discounted Revenue:\", total_discounted_revenue)"
   ]
  },
  {
   "cell_type": "code",
   "execution_count": null,
   "id": "02b7bd43-347d-4007-982e-8aad38efb9dd",
   "metadata": {},
   "outputs": [],
   "source": []
  }
 ],
 "metadata": {
  "kernelspec": {
   "display_name": "Python 3 (ipykernel)",
   "language": "python",
   "name": "python3"
  },
  "language_info": {
   "codemirror_mode": {
    "name": "ipython",
    "version": 3
   },
   "file_extension": ".py",
   "mimetype": "text/x-python",
   "name": "python",
   "nbconvert_exporter": "python",
   "pygments_lexer": "ipython3",
   "version": "3.13.3"
  }
 },
 "nbformat": 4,
 "nbformat_minor": 5
}
